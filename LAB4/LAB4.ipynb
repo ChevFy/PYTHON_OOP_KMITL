{
 "cells": [
  {
   "cell_type": "code",
   "execution_count": 223,
   "metadata": {},
   "outputs": [],
   "source": [
    "class Bank:\n",
    "    def __init__(self):\n",
    "        self.__user_list = []\n",
    "        self.__account_list = []\n",
    "        self.__atm_card_list = []\n",
    "        self.__atm_machine_list = []\n",
    "\n",
    "    def add_user(self, citizen_id: str, name: str):\n",
    "        self.__user_list.append(User(citizen_id, name))\n",
    "\n",
    "    def add_account(self, citizen_id: str, account_number: str, money: int):\n",
    "        for user in self.__user_list:\n",
    "            if user.citizen_id == citizen_id:\n",
    "                self.__account_list.append(Account(account_number, user, money))\n",
    "\n",
    "    def add_atm_card(self, account_number: str, card_number: str, pin: str):\n",
    "        for account in self.__account_list:\n",
    "            if account.account_number == account_number:\n",
    "                self.__atm_card_list.append(ATMCard(card_number, account, pin))\n",
    "\n",
    "    def add_atm_machine(self, machine_id: str, initial_amount: float):\n",
    "        self.__atm_machine_list.append(ATMMachine(machine_id, initial_amount))\n",
    "\n",
    "    @property\n",
    "    def user_list(self):\n",
    "        return self.__user_list\n",
    "\n",
    "    @property\n",
    "    def account_list(self):\n",
    "        return self.__account_list\n",
    "\n",
    "    @property\n",
    "    def atm_card_list(self):\n",
    "        return self.__atm_card_list\n",
    "\n",
    "    @property\n",
    "    def atm_machine_list(self):\n",
    "        return self.__atm_machine_list\n",
    "    \n",
    "\n",
    "class User:\n",
    "    def __init__(self, citizen_id: str, name: str):\n",
    "        self.__citizen_id = citizen_id\n",
    "        self.__name = name \n",
    "\n",
    "    @property\n",
    "    def citizen_id(self):\n",
    "        return self.__citizen_id\n",
    "    \n",
    "    @property\n",
    "    def name(self):\n",
    "        return self.__name\n",
    "\n",
    "class Account:\n",
    "    def __init__(self, account_number: str, owner: User, money: int):\n",
    "        self.__account_number = account_number\n",
    "        self.__owner = owner\n",
    "        self.__money = money\n",
    "        self.__transactions = []\n",
    "\n",
    "    @property\n",
    "    def account_number(self):\n",
    "        return self.__account_number\n",
    "\n",
    "    @property\n",
    "    def money(self):\n",
    "        return self.__money \n",
    "\n",
    "    @property\n",
    "    def transactions(self):\n",
    "        return self.__transactions\n",
    "\n",
    "    @property\n",
    "    def owner(self):\n",
    "        return self.__owner\n",
    "\n",
    "    def add_transaction(self, string: str):\n",
    "        self.__transactions.append(string)\n",
    "    \n",
    "    def add_money(self, amount: int):\n",
    "        self.__money += amount\n",
    "\n",
    "    def remove_money(self, amount: int):\n",
    "        self.__money -= amount\n",
    "\n",
    "class ATMCard:\n",
    "    def __init__(self, card_number: str, account: Account, pin: str):\n",
    "        self.__card_number = card_number\n",
    "        self.__account = account\n",
    "        self.__pin = pin\n",
    "\n",
    "    @property\n",
    "    def card_number(self):\n",
    "        return self.__card_number\n",
    "\n",
    "    @property\n",
    "    def pin(self):\n",
    "        return self.__pin\n",
    "\n",
    "    @property\n",
    "    def account(self):\n",
    "        return self.__account\n",
    "\n",
    "class ATMMachine:\n",
    "    def __init__(self, machine_id: str, initial_amount: float = 1000000):\n",
    "        self.__machine_id = machine_id\n",
    "        self.__initial_amount = initial_amount\n",
    "\n",
    "    def insert_card(self, atm_card: ATMCard, pin: str):\n",
    "        if atm_card.pin == pin:\n",
    "            return atm_card.card_number, atm_card.account.account_number, 'Success'\n",
    "        else:\n",
    "            return 'Invalid Pin'\n",
    "\n",
    "    def deposit(self, account: Account, amount: int):\n",
    "        if amount <= 0:\n",
    "            return 'Error'\n",
    "        else:\n",
    "            temp = account.money\n",
    "            account.add_money(amount)\n",
    "            self.__initial_amount += amount\n",
    "            account.add_transaction(f'D-ATM:{self.__machine_id}-{temp}-{account.money}')\n",
    "            return 'Success'\n",
    "\n",
    "    def withdraw(self, account: Account, amount: int):\n",
    "        limit = 0\n",
    "\n",
    "        if amount > self.__initial_amount :\n",
    "            return 'ATM has insufficient funds'\n",
    "        elif amount > account.money :\n",
    "            return 'Error'\n",
    "        else:\n",
    "            limit += amount\n",
    "            if limit >= 40000 : return 'Exceeds daily withdrawal limit of 40,000 baht'\n",
    "            temp = account.money\n",
    "            account.remove_money(amount)\n",
    "            self.__initial_amount -= amount\n",
    "            account.add_transaction(f'W-ATM:{self.__machine_id}-{temp}-{account.money}')\n",
    "            return 'Success'\n",
    "    \n",
    "    \n",
    "    def tranfer(self, account1 : Account , account2 : Account , amount : int):\n",
    "        if amount > 0 :\n",
    "            temp = account1.money\n",
    "            self.__initial_amount += amount\n",
    "            account2.add_money(amount)\n",
    "            account1.remove_money(amount)\n",
    "            account1.add_transaction(f'W-ATM:{self.__machine_id}-{temp}-{account1.money}')\n",
    "            account2.add_transaction(f'TD-ATM:{self.__machine_id}-{temp}-{account2.money}')\n",
    "\n",
    "        else :\n",
    "            return 'Error'\n",
    "\n",
    "    @property\n",
    "    def get_balance(self) : \n",
    "        return self.__initial_amount\n",
    "    \n",
    "\n",
    "\n",
    "\n",
    "my_bank = Bank()\n",
    "my_bank.add_user('1-1101-12345-12-0', 'Harry Potter')\n",
    "my_bank.add_user('1-1101-12345-13-0', 'Hermione Jean Granger')\n",
    "my_bank.add_account('1-1101-12345-12-0', '1234567890', 20000)\n",
    "my_bank.add_account('1-1101-12345-13-0', '0987654321', 1000)\n",
    "my_bank.add_atm_card('1234567890', '12345', '1234')\n",
    "my_bank.add_atm_card('0987654321', '12346', '1234')\n",
    "my_bank.add_atm_machine('1001', 1000000)\n",
    "my_bank.add_atm_machine('1002', 200000)\n",
    "\n",
    "\n",
    "# TODO 1 : จากข้อมูลใน user ให้สร้าง instance โดยมีข้อมูล\n",
    "# TODO :   key:value โดย key เป็นรหัสบัตรประชาชน และ value เป็นข้อมูลของคนนั้น ประกอบด้วย\n",
    "# TODO :   [ชื่อ, หมายเลขบัญชี, หมายเลขบัตร ATM, จำนวนเงินในบัญชี]\n",
    "# TODO :   return เป็น instance ของธนาคาร\n",
    "# TODO :   และสร้าง instance ของเครื่อง ATM จำนวน 2 เครื่อง\n",
    "\n",
    "\n",
    "# TODO 2 : เขียน method ที่ทำหน้าที่สอดบัตรเข้าเครื่อง ATM มี parameter 2 ตัว ได้แก่ 1) instance ของธนาคาร\n",
    "# TODO     2) atm_card เป็นหมายเลขของ atm_card\n",
    "# TODO     return ถ้าบัตรถูกต้องจะได้ instance ของ account คืนมา ถ้าไม่ถูกต้องได้เป็น None\n",
    "# TODO     ควรเป็น method ของเครื่อง ATM\n",
    "\n",
    "\n",
    "# TODO 3 : เขียน method ที่ทำหน้าที่ฝากเงิน โดยรับ parameter 3 ตัว คือ 1) instance ของเครื่อง atm\n",
    "# TODO     2) instance ของ account 3) จำนวนเงิน\n",
    "# TODO     การทำงาน ให้เพิ่มจำนวนเงินในบัญชี และ สร้าง transaction ลงในบัญชี\n",
    "# TODO     return หากการทำรายการเรียบร้อยให้ return success ถ้าไม่เรียบร้อยให้ return error\n",
    "# TODO     ต้อง validate การทำงาน เช่น ตัวเลขต้องมากกว่า 0\n",
    "\n",
    "\n",
    "#TODO 4 : เขียน method ที่ทำหน้าที่ถอนเงิน โดยรับ parameter 3 ตัว คือ 1) instance ของเครื่อง atm\n",
    "# TODO     2) instance ของ account 3) จำนวนเงิน\n",
    "# TODO     การทำงาน ให้ลดจำนวนเงินในบัญชี และ สร้าง transaction ลงในบัญชี\n",
    "# TODO     return หากการทำรายการเรียบร้อยให้ return success ถ้าไม่เรียบร้อยให้ return error\n",
    "# TODO     ต้อง validate การทำงาน เช่น ตัวเลขต้องมากกว่า 0 และ ไม่ถอนมากกว่าเงินที่มี\n",
    "\n",
    "\n",
    "#TODO 5 : เขียน method ที่ทำหน้าที่โอนเงิน โดยรับ parameter 4 ตัว คือ 1) instance ของเครื่อง atm\n",
    "# TODO     2) instance ของ account ตนเอง 3) instance ของ account ที่โอนไป 4) จำนวนเงิน\n",
    "# TODO     การทำงาน ให้ลดจำนวนเงินในบัญชีตนเอง และ เพิ่มเงินในบัญชีคนที่โอนไป และ สร้าง transaction ลงในบัญชี\n",
    "# TODO     return หากการทำรายการเรียบร้อยให้ return success ถ้าไม่เรียบร้อยให้ return error\n",
    "# TODO     ต้อง validate การทำงาน เช่น ตัวเลขต้องมากกว่า 0 และ ไม่ถอนมากกว่าเงินที่มี\n"
   ]
  },
  {
   "cell_type": "code",
   "execution_count": 224,
   "metadata": {},
   "outputs": [
    {
     "name": "stdout",
     "output_type": "stream",
     "text": [
      "('12345', '1234567890', 'Success')\n"
     ]
    }
   ],
   "source": [
    "# Test case #1 : ทดสอบ การ insert บัตร โดยค้นหาเครื่อง atm เครื่องที่ 1 และบัตร atm ของ harry\n",
    "# และเรียกใช้ function หรือ method จากเครื่อง ATM\n",
    "# ผลที่คาดหวัง : พิมพ์ หมายเลข account ของ harry อย่างถูกต้อง และ พิมพ์หมายเลขบัตร ATM อย่างถูกต้อง\n",
    "# Ans : 12345, 1234567890, Success\n",
    "print(my_bank.atm_machine_list[0].insert_card(my_bank.atm_card_list[0],'1234')) "
   ]
  },
  {
   "cell_type": "code",
   "execution_count": 225,
   "metadata": {},
   "outputs": [
    {
     "name": "stdout",
     "output_type": "stream",
     "text": [
      "before :1000\n",
      "after :2000\n"
     ]
    }
   ],
   "source": [
    "# Test case #2 : ทดสอบฝากเงินเข้าในบัญชีของ Hermione ในเครื่อง atm เครื่องที่ 2 เป็นจำนวน 1000 บาท\n",
    "# ให้เรียกใช้ method ที่ทำการฝากเงิน\n",
    "# ผลที่คาดหวัง : แสดงจำนวนเงินในบัญชีของ Hermione ก่อนฝาก หลังฝาก และ แสดง transaction\n",
    "# Hermione account before test : 1000\n",
    "# Hermione account after test : 2000\n",
    "print('before :{0}'.format(my_bank.account_list[1].money))\n",
    "my_bank.atm_machine_list[1].deposit(my_bank.account_list[1],1000)\n",
    "print('after :{0}'.format(my_bank.account_list[1].money))\n"
   ]
  },
  {
   "cell_type": "code",
   "execution_count": 226,
   "metadata": {},
   "outputs": [
    {
     "name": "stdout",
     "output_type": "stream",
     "text": [
      "Error\n"
     ]
    }
   ],
   "source": [
    "# Test case #3 : ทดสอบฝากเงินเข้าในบัญชีของ Hermione ในเครื่อง atm เครื่องที่ 2 เป็นจำนวน -1 บาท\n",
    "# ผลที่คาดหวัง : แสดง Error\n",
    "print(my_bank.atm_machine_list[1].deposit(my_bank.account_list[1],-1))"
   ]
  },
  {
   "cell_type": "code",
   "execution_count": 227,
   "metadata": {},
   "outputs": [
    {
     "name": "stdout",
     "output_type": "stream",
     "text": [
      "before :2000\n",
      "after :1500\n"
     ]
    }
   ],
   "source": [
    "# Test case #4 : ทดสอบการถอนเงินจากบัญชีของ Hermione ในเครื่อง atm เครื่องที่ 2 เป็นจำนวน 500 บาท\n",
    "# ให้เรียกใช้ method ที่ทำการถอนเงิน\n",
    "# ผลที่คาดหวัง : แสดงจำนวนเงินในบัญชีของ Hermione ก่อนถอน หลังถอน และ แสดง transaction\n",
    "# Hermione account before test : 2000\n",
    "# Hermione account after test : 1500\n",
    "print('before :{0}'.format(my_bank.account_list[1].money))\n",
    "my_bank.atm_machine_list[1].withdraw(my_bank.account_list[1],500)\n",
    "print('after :{0}'.format(my_bank.account_list[1].money))"
   ]
  },
  {
   "cell_type": "code",
   "execution_count": 228,
   "metadata": {},
   "outputs": [
    {
     "name": "stdout",
     "output_type": "stream",
     "text": [
      "Error\n"
     ]
    }
   ],
   "source": [
    "# Test case #5 : ทดสอบถอนเงินจากบัญชีของ Hermione ในเครื่อง atm เครื่องที่ 2 เป็นจำนวน 2000 บาท\n",
    "# ผลที่คาดหวัง : แสดง Error\n",
    "print(my_bank.atm_machine_list[1].withdraw(my_bank.account_list[1],2000))"
   ]
  },
  {
   "cell_type": "code",
   "execution_count": 229,
   "metadata": {},
   "outputs": [
    {
     "name": "stdout",
     "output_type": "stream",
     "text": [
      "Harry before :20000\n",
      "Herminone before :1500\n",
      "Harry after :10000\n",
      "Herminone after :11500\n"
     ]
    }
   ],
   "source": [
    "# Test case #6 : ทดสอบการโอนเงินจากบัญชีของ Harry ไปยัง Hermione จำนวน 10000 บาท ในเครื่อง atm เครื่องที่ 2\n",
    "# ให้เรียกใช้ method ที่ทำการโอนเงิน\n",
    "# ผลที่คาดหวัง : แสดงจำนวนเงินในบัญชีของ Harry ก่อนถอน หลังถอน และ แสดงจำนวนเงินในบัญชีของ Hermione ก่อนถอน หลังถอน แสดง transaction\n",
    "# Harry account before test : 20000\n",
    "# Harry account after test : 10000\n",
    "# Hermione account before test : 1500\n",
    "# Hermione account after test : 11500\n",
    "print('Harry before :{0}'.format(my_bank.account_list[0].money))\n",
    "print('Herminone before :{0}'.format(my_bank.account_list[1].money))\n",
    "my_bank.atm_machine_list[1].tranfer(my_bank.account_list[0],my_bank.account_list[1],10000)\n",
    "print('Harry after :{0}'.format(my_bank.account_list[0].money))\n",
    "print('Herminone after :{0}'.format(my_bank.account_list[1].money))\n"
   ]
  },
  {
   "cell_type": "code",
   "execution_count": 230,
   "metadata": {},
   "outputs": [
    {
     "name": "stdout",
     "output_type": "stream",
     "text": [
      "D-ATM:1002-1000-2000\n",
      "W-ATM:1002-2000-1500\n",
      "TD-ATM:1002-20000-11500\n"
     ]
    }
   ],
   "source": [
    "# Test case #7 : แสดง transaction ของ Hermione ทั้งหมด \n",
    "# ผลที่คาดหวัง\n",
    "# Hermione transaction : D-ATM:1002-1000-2000\n",
    "# Hermione transaction : W-ATM:1002-500-1500\n",
    "# Hermione transaction : TD-ATM:1002-10000-11500\n",
    "for x in my_bank.account_list[1].transactions :\n",
    "    print(x)"
   ]
  },
  {
   "cell_type": "code",
   "execution_count": 231,
   "metadata": {},
   "outputs": [
    {
     "name": "stdout",
     "output_type": "stream",
     "text": [
      "Invalid Pin\n"
     ]
    }
   ],
   "source": [
    "# Test case #8 : ทดสอบการใส่ PIN ไม่ถูกต้อง \n",
    "# ให้เรียกใช้ method ที่ทำการ insert card และตรวจสอบ PIN\n",
    "atm_machine = my_bank.atm_machine_list[0]\n",
    "print(atm_machine.insert_card(my_bank.atm_card_list[0], '9999'))  \n",
    "# ผลที่คาดหวัง\n",
    "# Invalid PIN"
   ]
  },
  {
   "cell_type": "code",
   "execution_count": 232,
   "metadata": {},
   "outputs": [
    {
     "name": "stdout",
     "output_type": "stream",
     "text": [
      "Harry account before test: 50000\n",
      "Attempting to withdraw 45,000 baht...\n",
      "Expected result: Exceeds daily withdrawal limit of 40,000 baht\n",
      "Actual result: Exceeds daily withdrawal limit of 40,000 baht\n",
      "Harry account after test: 50000\n"
     ]
    }
   ],
   "source": [
    "# Test case #9 : ทดสอบการถอนเงินเกินวงเงินต่อวัน (40,000 บาท)\n",
    "my_bank.account_list[0].add_money(40000)\n",
    "atm_machine = my_bank.atm_machine_list[0]\n",
    "atm_card = my_bank.atm_card_list[0]\n",
    "card_info = atm_machine.insert_card(atm_card, '1234')\n",
    "account = atm_card.account\n",
    "harry_balance_before = account.money\n",
    "print(f\"Harry account before test: {harry_balance_before}\")\n",
    "print(\"Attempting to withdraw 45,000 baht...\")\n",
    "result = atm_machine.withdraw(account, 45000)\n",
    "print(f\"Expected result: Exceeds daily withdrawal limit of 40,000 baht\")\n",
    "print(f\"Actual result: {result}\")\n",
    "harry_balance_after = account.money\n",
    "print(f\"Harry account after test: {harry_balance_after}\")"
   ]
  },
  {
   "cell_type": "code",
   "execution_count": 233,
   "metadata": {},
   "outputs": [
    {
     "name": "stdout",
     "output_type": "stream",
     "text": [
      "Test case #10 : Test withdrawal when ATM has insufficient funds\n",
      "ATM machine balance before: 210500\n",
      "Attempting to withdraw 250,000 baht...\n",
      "Expected result: ATM has insufficient funds\n",
      "Actual result: ATM has insufficient funds\n",
      "ATM machine balance after: 210500\n"
     ]
    }
   ],
   "source": [
    "# Test case #10 : ทดสอบการถอนเงินเมื่อเงินในตู้ ATM ไม่พอ\n",
    "atm_machine = my_bank.atm_machine_list[1]\n",
    "account = atm_machine.insert_card(my_bank.atm_card_list[0], '1234')\n",
    "\n",
    "print(\"Test case #10 : Test withdrawal when ATM has insufficient funds\")\n",
    "print(f\"ATM machine balance before: {atm_machine.get_balance}\")\n",
    "print(\"Attempting to withdraw 250,000 baht...\")\n",
    "result = atm_machine.withdraw(my_bank.account_list[0], 250000)\n",
    "print(f\"Expected result: ATM has insufficient funds\")\n",
    "print(f\"Actual result: {result}\")\n",
    "print(f\"ATM machine balance after: {atm_machine.get_balance}\")"
   ]
  },
  {
   "cell_type": "code",
   "execution_count": null,
   "metadata": {},
   "outputs": [],
   "source": []
  }
 ],
 "metadata": {
  "kernelspec": {
   "display_name": "Python 3",
   "language": "python",
   "name": "python3"
  },
  "language_info": {
   "codemirror_mode": {
    "name": "ipython",
    "version": 3
   },
   "file_extension": ".py",
   "mimetype": "text/x-python",
   "name": "python",
   "nbconvert_exporter": "python",
   "pygments_lexer": "ipython3",
   "version": "3.13.0"
  }
 },
 "nbformat": 4,
 "nbformat_minor": 2
}
